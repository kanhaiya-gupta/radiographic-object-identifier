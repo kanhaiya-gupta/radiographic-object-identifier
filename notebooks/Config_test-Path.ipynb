{
 "cells": [
  {
   "cell_type": "code",
   "execution_count": 1,
   "id": "86a3568e",
   "metadata": {},
   "outputs": [],
   "source": [
    "# Read the YAML file\n",
    "import os\n",
    "import yaml  \n",
    "from yaml.loader import FullLoader  \n",
    "  \n",
    "\n",
    "#open yaml file in read  \n",
    "\n",
    "with open(\"../config/config.yaml\", \"rb\") as file:  \n",
    "    config_QID = yaml.load(file, Loader=FullLoader)  \n"
   ]
  },
  {
   "cell_type": "code",
   "execution_count": 3,
   "id": "bbf67810-1ee0-4593-b262-86ab5cb14763",
   "metadata": {},
   "outputs": [
    {
     "data": {
      "text/plain": [
       "{'Similarity_study': True,\n",
       " 'Develop_identifier': True,\n",
       " 'Develop_URL_key': True,\n",
       " 'Sample_name': 'XCT-1',\n",
       " 'Resolution_XCT': 10,\n",
       " 'Apply_filter': 'Non_local_means',\n",
       " 'Filter_parameter': 7,\n",
       " 'Thresholding_algorithm': 'OTSU',\n",
       " 'No_of_pores': 11,\n",
       " 'Equivalent_Spherical_Diameter_min': 10.0,\n",
       " 'Equivalent_Spherical_Diameter_max': -999.0,\n",
       " 'Sphericity': 0.7,\n",
       " 'Voxel_count': 27.0,\n",
       " 'Distance_from_centre': -999.0,\n",
       " 'Uncertainty_window': 1,\n",
       " 'Position_X': True,\n",
       " 'Position_Y': True,\n",
       " 'Position_Z': True,\n",
       " 'Volume_of_pore_': True,\n",
       " 'Voxel_count_': False,\n",
       " 'Sphericity_': True,\n",
       " 'Equivalent_Spherical_Diameter_': True,\n",
       " 'Aspect_Ratio_': False,\n",
       " 'No_of_bins': 20,\n",
       " 'do_Variables_plot': True,\n",
       " 'Input_Path': '/Users/kgupta/radiographic_identifier/Data/',\n",
       " 'Output_Path': '/Users/kgupta/radiographic_identifier/Output/'}"
      ]
     },
     "execution_count": 3,
     "metadata": {},
     "output_type": "execute_result"
    }
   ],
   "source": [
    "config_QID"
   ]
  },
  {
   "cell_type": "code",
   "execution_count": 18,
   "id": "bf5e3a83",
   "metadata": {},
   "outputs": [
    {
     "data": {
      "text/plain": [
       "dict"
      ]
     },
     "execution_count": 18,
     "metadata": {},
     "output_type": "execute_result"
    }
   ],
   "source": [
    "type(config_QID)\n",
    "\n"
   ]
  },
  {
   "cell_type": "code",
   "execution_count": 19,
   "id": "102eded3",
   "metadata": {},
   "outputs": [
    {
     "data": {
      "text/plain": [
       "0.7"
      ]
     },
     "execution_count": 19,
     "metadata": {},
     "output_type": "execute_result"
    }
   ],
   "source": [
    "config_QID[\"Sphericity\"]"
   ]
  },
  {
   "cell_type": "code",
   "execution_count": 20,
   "id": "379406cb-d7e8-4a84-8287-10405858025e",
   "metadata": {},
   "outputs": [
    {
     "data": {
      "text/plain": [
       "'/Users/kgupta/radiographic_identifier/Data/'"
      ]
     },
     "execution_count": 20,
     "metadata": {},
     "output_type": "execute_result"
    }
   ],
   "source": [
    "config_QID[\"Data_Path\"]"
   ]
  },
  {
   "cell_type": "code",
   "execution_count": 21,
   "id": "3384b910-64d1-4bb9-a5ba-7b6b35c00662",
   "metadata": {},
   "outputs": [],
   "source": [
    "Data_path = config_QID[\"Data_Path\"] \n",
    "os.makedirs(Data_path, exist_ok=True)\n",
    "\n",
    "Segmented_directory = os.path.join(Data_path, r'Segmented_Data')\n",
    "os.makedirs(Segmented_directory, exist_ok=True)\n",
    "Porosity_directory = os.path.join(Segmented_directory, r'Porosity')\n",
    "os.makedirs(Porosity_directory, exist_ok=True)\n",
    "\n",
    "Processed_data_directory = os.path.join(Data_path, r'Processed_Data')\n",
    "os.makedirs(Processed_data_directory, exist_ok=True)\n",
    "Pores_data_directory = Path_processed_data = Processed_data_directory + \"/\" + \"Pores_\" + str(config_QID[\"No_of_pores\"]) + \"/\"\n",
    "os.makedirs(Pores_data_directory, exist_ok=True)\n",
    "Similarity_directory = os.path.join(Pores_data_directory, r'Similarity')\n",
    "os.makedirs(Similarity_directory, exist_ok=True)\n"
   ]
  },
  {
   "cell_type": "code",
   "execution_count": null,
   "id": "6aa15050-de3c-4c78-a761-ac58beb86bfe",
   "metadata": {},
   "outputs": [],
   "source": []
  },
  {
   "cell_type": "code",
   "execution_count": 22,
   "id": "7976899a",
   "metadata": {},
   "outputs": [
    {
     "data": {
      "text/plain": [
       "'/Users/kgupta/radiographic_identifier/Output/'"
      ]
     },
     "execution_count": 22,
     "metadata": {},
     "output_type": "execute_result"
    }
   ],
   "source": [
    "config_QID[\"Output_Path\"]"
   ]
  },
  {
   "cell_type": "code",
   "execution_count": 23,
   "id": "00a49f6b",
   "metadata": {},
   "outputs": [],
   "source": [
    "#os.makedirs(path, exist_ok=True)\n",
    "#current_directory = os.getcwd() + \"\\..\"\n",
    "#print(current_directory)\n",
    "Path_pores = config_QID[\"Output_Path\"] + \"Pores_\" + str(config_QID[\"No_of_pores\"])\n",
    "\n",
    "#print(path_1)\n",
    "# Check whether the specified path exists or not\n",
    "isExist = os.path.exists(Path_pores)\n",
    "if not isExist:\n",
    "    os.makedirs(Path_pores, exist_ok=True)\n",
    "    print(Path_pores)\n",
    "    CSV_directory = os.path.join(Path_pores, r'CSV_data')\n",
    "    os.makedirs(CSV_directory, exist_ok=True)\n",
    "    Similarity_directory = os.path.join(Path_pores, r'Similarity_result')\n",
    "    os.makedirs(Similarity_directory, exist_ok=True)\n",
    "    UID_directory = os.path.join(Path_pores, r'UID')\n",
    "    os.makedirs(UID_directory, exist_ok=True)\n",
    "    Images_directory = os.path.join(Path_pores, r'Images')\n",
    "    os.makedirs(Images_directory, exist_ok=True)\n",
    "    \n",
    "    Distance_directory = os.path.join(Images_directory, r'Distances')\n",
    "    os.makedirs(Distance_directory, exist_ok=True)\n",
    "    QRcode_directory = os.path.join(Images_directory, r'QR-codes')\n",
    "    os.makedirs(QRcode_directory, exist_ok=True)\n",
    "    Reconstruction_directory = os.path.join(Images_directory, r'Reconstruction')\n",
    "    os.makedirs(Reconstruction_directory, exist_ok=True)\n",
    "    Distance_comp_directory = os.path.join(Images_directory, r'Distance_comparison')\n",
    "    os.makedirs(Distance_comp_directory, exist_ok=True)\n",
    "    print(\"The new directory is created!\")"
   ]
  },
  {
   "cell_type": "code",
   "execution_count": 24,
   "id": "62b90a2c",
   "metadata": {},
   "outputs": [],
   "source": [
    "Images_directory = os.path.join(Path_pores, r'Images')\n",
    "os.makedirs(Images_directory, exist_ok=True)\n",
    "Distance_directory = os.path.join(Images_directory, r'Distances')\n",
    "os.makedirs(Distance_directory, exist_ok=True)\n",
    "QRcode_directory = os.path.join(Images_directory, r'QR-codes')\n",
    "os.makedirs(QRcode_directory, exist_ok=True)\n",
    "Reconstruction_directory = os.path.join(Images_directory, r'Reconstruction')\n",
    "os.makedirs(Reconstruction_directory, exist_ok=True)\n",
    "Distance_comp_directory = os.path.join(Images_directory, r'Distance_comparison')\n",
    "os.makedirs(Distance_comp_directory, exist_ok=True)"
   ]
  },
  {
   "cell_type": "code",
   "execution_count": 42,
   "id": "0412c2e5",
   "metadata": {},
   "outputs": [
    {
     "name": "stdout",
     "output_type": "stream",
     "text": [
      "{'a': 1, 'b': 2, 'c': 3, 'd': 4}\n"
     ]
    }
   ],
   "source": [
    "from datetime import datetime\n",
    "\n",
    "# datetime object containing current date and time\n",
    "now = datetime.now()\n",
    "dt_string = now.strftime(\"%d/%m/%Y %H:%M:%S\")\n",
    "\n",
    "updict = {\"Date_and_time\" : dt_string, \"Topic\" : \"Microstructural_fingerprinting\"} #, \"Analysis_Parameters\" : \"...\" }\n",
    "with open('Meta-data.yaml', 'w') as yaml_file:\n",
    "    # ** operator for packing and unpacking items in order\n",
    "    config_QID_update = {**updict, **config_QID}\n",
    "    #config_QID_update = dict(config_QID, Date_and_time = dt_string)\n",
    "    yaml.dump(config_QID_update, yaml_file, default_flow_style=False, sort_keys=False)\n",
    "\n",
    "myDict = {'a': 1, 'b': 2, 'c': 3}\n",
    "newDict = dict(myDict, d=4)\n",
    "\n",
    "print(newDict)"
   ]
  },
  {
   "cell_type": "code",
   "execution_count": 43,
   "id": "f06f632e-cd68-40a9-a0f9-fbb66f63d873",
   "metadata": {},
   "outputs": [
    {
     "data": {
      "text/plain": [
       "{'Date_and_time': '05/11/2024 21:39:40',\n",
       " 'Topic': 'Microstructural_fingerprinting',\n",
       " 'Similarity_study': True,\n",
       " 'Develop_identifier': True,\n",
       " 'Develop_URL_key': True,\n",
       " 'Sample_name': 'XCT-20',\n",
       " 'Resolution_XCT': 10,\n",
       " 'Apply_filter': 'Non_local_means',\n",
       " 'Filter_parameter': 7,\n",
       " 'Thresholding_algorithm': 'OTSU',\n",
       " 'No_of_pores': 15,\n",
       " 'Equivalent_Spherical_Diameter_min': 10.0,\n",
       " 'Equivalent_Spherical_Diameter_max': -999.0,\n",
       " 'Sphericity': 0.7,\n",
       " 'Voxel_count': 27.0,\n",
       " 'Distance_from_centre': -999.0,\n",
       " 'Uncertainty_window': 1,\n",
       " 'Position_X': True,\n",
       " 'Position_Y': True,\n",
       " 'Position_Z': True,\n",
       " 'Volume_of_pore_': True,\n",
       " 'Voxel_count_': False,\n",
       " 'Sphericity_': True,\n",
       " 'Equivalent_Spherical_Diameter_': True,\n",
       " 'Aspect_Ratio_': False,\n",
       " 'No_of_bins': 20,\n",
       " 'do_Variables_plot': False,\n",
       " 'Data_Path': '/Users/kgupta/radiographic_identifier/Data/',\n",
       " 'Output_Path': '/Users/kgupta/radiographic_identifier/Output/'}"
      ]
     },
     "execution_count": 43,
     "metadata": {},
     "output_type": "execute_result"
    }
   ],
   "source": [
    "config_QID_update"
   ]
  },
  {
   "cell_type": "code",
   "execution_count": 14,
   "id": "04d06538",
   "metadata": {},
   "outputs": [],
   "source": [
    "import time"
   ]
  },
  {
   "cell_type": "code",
   "execution_count": 15,
   "id": "682a3bc0-d4c3-4882-9b32-814b14fcbe87",
   "metadata": {},
   "outputs": [
    {
     "name": "stdout",
     "output_type": "stream",
     "text": [
      "Today's date: 2024-11-05\n"
     ]
    }
   ],
   "source": [
    "from datetime import date\n",
    "\n",
    "today = date.today()\n",
    "print(\"Today's date:\", today)"
   ]
  },
  {
   "cell_type": "code",
   "execution_count": 16,
   "id": "f290e354-35f2-408e-8419-0453f81054f1",
   "metadata": {},
   "outputs": [
    {
     "name": "stdout",
     "output_type": "stream",
     "text": [
      "now = 2024-11-05 20:51:01.203118\n",
      "date and time = 05/11/2024 20:51:01\n"
     ]
    }
   ],
   "source": [
    "from datetime import datetime\n",
    "\n",
    "# datetime object containing current date and time\n",
    "now = datetime.now()\n",
    " \n",
    "print(\"now =\", now)\n",
    "\n",
    "# dd/mm/YY H:M:S\n",
    "dt_string = now.strftime(\"%d/%m/%Y %H:%M:%S\")\n",
    "print(\"date and time =\", dt_string)"
   ]
  },
  {
   "cell_type": "code",
   "execution_count": null,
   "id": "63a17da0-cab1-4509-a0c0-f5be7de9ce00",
   "metadata": {},
   "outputs": [],
   "source": []
  }
 ],
 "metadata": {
  "kernelspec": {
   "display_name": "Python [conda env:base] *",
   "language": "python",
   "name": "conda-base-py"
  },
  "language_info": {
   "codemirror_mode": {
    "name": "ipython",
    "version": 3
   },
   "file_extension": ".py",
   "mimetype": "text/x-python",
   "name": "python",
   "nbconvert_exporter": "python",
   "pygments_lexer": "ipython3",
   "version": "3.12.3"
  }
 },
 "nbformat": 4,
 "nbformat_minor": 5
}
