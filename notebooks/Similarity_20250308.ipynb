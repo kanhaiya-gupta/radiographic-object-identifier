{
 "cells": [
  {
   "cell_type": "code",
   "execution_count": 13,
   "id": "23c3ab68-e73e-4a54-94bc-ed8dc8bfe13e",
   "metadata": {},
   "outputs": [
    {
     "name": "stdout",
     "output_type": "stream",
     "text": [
      "Log file ready at: C:\\Users\\kanha\\BAM_kgupta\\radiographic_identifier\\logs\\similarity.log\n"
     ]
    }
   ],
   "source": [
    "import os\n",
    "import logging\n",
    "import pandas as pd\n",
    "import numpy as np\n",
    "import csv\n",
    "from scipy.stats import ks_2samp\n",
    "\n",
    "log_path = r'C:\\Users\\kanha\\BAM_kgupta\\radiographic_identifier\\logs\\similarity.log'\n",
    "log_dir = os.path.dirname(log_path)\n",
    "\n",
    "# Ensure the logs directory exists\n",
    "os.makedirs(log_dir, exist_ok=True)\n",
    "\n",
    "# Create the log file if it doesn't exist\n",
    "if not os.path.exists(log_path):\n",
    "    with open(log_path, 'w') as log_file:\n",
    "        log_file.write('')  # Create an empty log file\n",
    "\n",
    "print(f'Log file ready at: {log_path}')\n",
    "\n",
    "# Configure logging\n",
    "logging.basicConfig(\n",
    "    filename='logs/similarity.log', level=logging.INFO,\n",
    "    format='%(asctime)s - %(levelname)s - %(message)s'\n",
    ")"
   ]
  },
  {
   "cell_type": "code",
   "execution_count": 37,
   "id": "061346d0-5ede-4152-b95e-ff332351a4b5",
   "metadata": {},
   "outputs": [],
   "source": [
    "class SimilarityAnalysis:\n",
    "    def __init__(self, config):\n",
    "        self.config = config\n",
    "        self.samples = []\n",
    "        self.main_sample = None\n",
    "    \n",
    "    def load_data(self):\n",
    "        \"\"\"Load the main sample and available comparison samples.\"\"\"\n",
    "        try:\n",
    "            base_path = os.path.join(self.config[\"Input_Path\"], \"Processed_Data\", f\"Pores_{self.config['No_of_pores']}\", \"Similarity\")\n",
    "            base_path = base_path.replace(\"\\\\\", \"/\")  # Fixes mixed slashes\n",
    "            sample_path = os.path.join(base_path, f\"{self.config['Sample_name']}.csv\")\n",
    "            sample_path = sample_path.replace(\"\\\\\", \"/\")  # Fixes mixed slashes\n",
    "            self.main_sample = pd.read_csv(sample_path)\n",
    "            all_files = os.listdir(base_path)\n",
    "            self.samples = [file for file in all_files if file != f\"{self.config['Sample_name']}.csv\"]\n",
    "            \n",
    "            if len(self.samples) < 1:\n",
    "                logging.warning(\"Only one sample found. No comparison possible.\")\n",
    "                exit()\n",
    "            logging.info(\"Data loaded successfully.\")\n",
    "        except Exception as e:\n",
    "            logging.error(f\"Error loading data: {e}\")\n",
    "            raise\n",
    "    \n",
    "    def compare_samples(self, sample1, sample2):\n",
    "        \"\"\"Perform a KS-test comparison between two samples.\"\"\"\n",
    "        try:\n",
    "            ks_test = ks_2samp(sample1[\"distance\"], sample2[\"distance\"])\n",
    "            return ks_test[1] * 100  # p-value percentage\n",
    "        except Exception as e:\n",
    "            logging.error(f\"Error in sample comparison: {e}\")\n",
    "            raise\n",
    "    \n",
    "    def compute_similarity(self):\n",
    "        \"\"\"Compute similarity between main sample and other available samples.\"\"\"\n",
    "        results = {}\n",
    "        try:\n",
    "            for file in self.samples:\n",
    "                sample_path = os.path.join(self.config[\"Input_Path\"], \"Processed_Data\", f\"Pores_{self.config['No_of_pores']}\", \"Similarity\", file)\n",
    "                sample_df = pd.read_csv(sample_path)\n",
    "                similarity_score = self.compare_samples(self.main_sample, sample_df)\n",
    "                results[file.replace(\".csv\", \"\")] = similarity_score\n",
    "                logging.info(f\"Compared {self.config['Sample_name']} with {file}: {similarity_score:.2f}% similarity\")\n",
    "            return results\n",
    "        except Exception as e:\n",
    "            logging.error(f\"Error computing similarity: {e}\")\n",
    "            raise\n",
    "    \n",
    "    def save_results(self, results):\n",
    "        \"\"\"Save similarity results to a text file.\"\"\"\n",
    "        try:\n",
    "            output_path = os.path.join(self.config[\"Output_Path\"], \"Pores_\", str(self.config[\"No_of_pores\"]), \"Similarity_result\")\n",
    "            os.makedirs(output_path, exist_ok=True)\n",
    "            output_file = os.path.join(output_path, f\"{self.config['Sample_name']}_SIMILARITY.txt\")\n",
    "            \n",
    "            with open(output_file, \"w\") as f:\n",
    "                for sample, score in results.items():\n",
    "                    f.write(f\"{sample}: {score:.2f}%\\n\")\n",
    "            logging.info(\"Similarity results saved successfully.\")\n",
    "        except Exception as e:\n",
    "            logging.error(f\"Error saving results: {e}\")\n",
    "            raise\n",
    "    \n",
    "    def run_analysis(self):\n",
    "        \"\"\"Run the full similarity analysis process.\"\"\"\n",
    "        try:\n",
    "            self.load_data()\n",
    "            results = self.compute_similarity()\n",
    "            self.save_results(results)\n",
    "            logging.info(\"Similarity analysis completed successfully.\")\n",
    "        except Exception as e:\n",
    "            logging.error(f\"Analysis pipeline failed: {e}\")\n",
    "            raise\n",
    "\n",
    "if __name__ == \"__main__\":\n",
    "    # Sample configuration dictionary (replace with actual config loading)\n",
    "    config = {\n",
    "        \"Sample_name\": \"XCT-1\",\n",
    "        \"Input_Path\": \"/Users/kanha/BAM_kgupta/radiographic_identifier/Data/\",\n",
    "        \"Output_Path\": \"./Output/\",\n",
    "        \"No_of_pores\": 16\n",
    "    }\n",
    "    analysis = SimilarityAnalysis(config)\n",
    "    analysis.run_analysis()"
   ]
  },
  {
   "cell_type": "code",
   "execution_count": 27,
   "id": "4f57cb5e-8ddd-4371-9f5b-cc131e23438b",
   "metadata": {},
   "outputs": [
    {
     "name": "stdout",
     "output_type": "stream",
     "text": [
      "/Users/kanha/BAM_kgupta/radiographic_identifier/Data/Processed_Data/Pores_10/Similarity/XCT-1.csv\n"
     ]
    }
   ],
   "source": [
    "import os\n",
    "\n",
    "base_path = \"/Users/kanha/BAM_kgupta/radiographic_identifier/Data/Processed_Data\"\n",
    "file_path = os.path.join(base_path, \"Pores_10\", \"Similarity\", \"XCT-1.csv\")\n",
    "fixed_path = file_path.replace(\"\\\\\", \"/\")  # Fixes mixed slashes\n",
    "\n",
    "print(fixed_path)  # Outputs a correctly formatted path\n"
   ]
  },
  {
   "cell_type": "code",
   "execution_count": null,
   "id": "0f6dc62b-7e35-45a3-8519-3c994eecff1a",
   "metadata": {},
   "outputs": [],
   "source": []
  }
 ],
 "metadata": {
  "kernelspec": {
   "display_name": "Python [conda env:base] *",
   "language": "python",
   "name": "conda-base-py"
  },
  "language_info": {
   "codemirror_mode": {
    "name": "ipython",
    "version": 3
   },
   "file_extension": ".py",
   "mimetype": "text/x-python",
   "name": "python",
   "nbconvert_exporter": "python",
   "pygments_lexer": "ipython3",
   "version": "3.12.3"
  }
 },
 "nbformat": 4,
 "nbformat_minor": 5
}
